{
 "cells": [
  {
   "cell_type": "code",
   "execution_count": 4,
   "metadata": {},
   "outputs": [],
   "source": [
    "import numpy as np\n",
    "import pandas as pd\n",
    "import matplotlib.pyplot as plt\n",
    "import scipy.stats\n",
    "from scipy.stats import poisson\n",
    "import scipy.special\n",
    "\n",
    "import seaborn as sns\n",
    "sns.set_style(\"whitegrid\")\n",
    "sns.set_context(\"notebook\", font_scale=1.25)"
   ]
  },
  {
   "cell_type": "code",
   "execution_count": 5,
   "metadata": {},
   "outputs": [],
   "source": [
    "import autograd.numpy as ag_np\n",
    "import autograd.scipy.stats as ag_stats"
   ]
  },
  {
   "cell_type": "markdown",
   "metadata": {},
   "source": [
    "# Goal: Find reseanable prior duration distribution from infected(I) to symptomatic(M) stage (Omicron Variant)"
   ]
  },
  {
   "cell_type": "markdown",
   "metadata": {},
   "source": [
    "Evidence:\n",
    "\"Whereas the median SARS-CoV-2 incubation period has been described as ≥5 days (2,3), and closer to 4 days for the SARS-CoV-2 B.1.617.2 (Delta) variant,††† the median incubation period§§§ observed in this cluster was approximately 3 days. \"\n",
    "\n",
    "Figure 1 in article(chrome-extension://efaidnbmnnnibpcajpcglclefindmkaj/viewer.html?pdfurl=https%3A%2F%2Fassets.researchsquare.com%2Ffiles%2Frs-1279005%2Fv1%2F7b92b35a-bbe6-4074-8e80-c53375e8da7c.pdf%3Fc%3D1642707512&clen=414031&chunk=true) shows the median of incuabtion period for Omicron is 3 days with (1-4) IQR. "
   ]
  },
  {
   "cell_type": "markdown",
   "metadata": {},
   "source": [
    "Article link: https://www.cdc.gov/mmwr/volumes/70/wr/mm705152e3.htm\n",
    "\n",
    "chrome-extension://efaidnbmnnnibpcajpcglclefindmkaj/viewer.html?pdfurl=https%3A%2F%2Fassets.researchsquare.com%2Ffiles%2Frs-1279005%2Fv1%2F7b92b35a-bbe6-4074-8e80-c53375e8da7c.pdf%3Fc%3D1642707512&clen=414031&chunk=true"
   ]
  },
  {
   "cell_type": "markdown",
   "metadata": {},
   "source": [
    "### Generic function to assess how well samples from a proposed distribution fit our criteria"
   ]
  },
  {
   "cell_type": "code",
   "execution_count": 6,
   "metadata": {},
   "outputs": [],
   "source": [
    "def pprint_samples(samps_v1_S, samps_v2_S):\n",
    "    pd.set_option('display.precision', 3)\n",
    "    row_dict_list = list()\n",
    "    for perc, desired in [(25, 1),(50, 3), (75, 4)]:\n",
    "        observed1 = np.percentile(samps_v1_S, perc)\n",
    "        observed2 = np.percentile(samps_v2_S, perc)\n",
    "        row_dict_list.append(dict(perc=perc, desired=desired, observed1=observed1, observed2=observed2))\n",
    "    df = pd.DataFrame(row_dict_list)\n",
    "    print(df)    "
   ]
  },
  {
   "cell_type": "code",
   "execution_count": 7,
   "metadata": {},
   "outputs": [],
   "source": [
    "def samples_mean(samps_v1_S, samps_v2_S):\n",
    "    desiredmean = 3\n",
    "    observed1 = np.mean(samps_v1_S)\n",
    "    observed2 = np.mean(samps_v2_S)\n",
    "    df = pd.DataFrame({'desiredmean': [desiredmean], 'observed1': [observed1], 'observed2': [observed2]})\n",
    "    print(df)"
   ]
  },
  {
   "cell_type": "markdown",
   "metadata": {},
   "source": [
    "## Let's look at the one parameter poisson(3) distribution"
   ]
  },
  {
   "cell_type": "code",
   "execution_count": 8,
   "metadata": {},
   "outputs": [
    {
     "data": {
      "text/plain": [
       "<matplotlib.collections.LineCollection at 0x28d10a04c48>"
      ]
     },
     "execution_count": 8,
     "metadata": {},
     "output_type": "execute_result"
    },
    {
     "data": {
      "image/png": "[encoded data removed]",
      "text/plain": [
       "<Figure size 432x288 with 1 Axes>"
      ]
     },
     "metadata": {},
     "output_type": "display_data"
    }
   ],
   "source": [
    "fig, ax = plt.subplots(1, 1)\n",
    "\n",
    "mu = 3\n",
    "mean, var, skew, kurt = poisson.stats(mu, moments='mvsk')\n",
    "x = np.arange(0,20)\n",
    "ax.plot(x, poisson.pmf(x, mu), 'bo', ms=8, label='poisson pmf')\n",
    "ax.vlines(x, 0, poisson.pmf(x, mu), colors='b', lw=5, alpha=0.5)"
   ]
  },
  {
   "cell_type": "code",
   "execution_count": 9,
   "metadata": {},
   "outputs": [],
   "source": [
    "S = 10000"
   ]
  },
  {
   "cell_type": "code",
   "execution_count": 10,
   "metadata": {},
   "outputs": [],
   "source": [
    "def sample_from_1param(lam, size=100000, J=20, random_state=0):\n",
    "    logpmf_J = ag_stats.poisson.logpmf(np.arange(1, J), lam)\n",
    "    pmf_J = ag_np.exp(logpmf_J)\n",
    "    denom = ag_np.sum(pmf_J)\n",
    "    pmf_J = pmf_J / denom\n",
    "\n",
    "    if isinstance(random_state, int):\n",
    "        prng = np.random.RandomState(random_state)\n",
    "    else:\n",
    "        prng = random_state\n",
    "    return prng.choice(np.arange(1, J), p=pmf_J, size=size)"
   ]
  },
  {
   "cell_type": "code",
   "execution_count": 11,
   "metadata": {},
   "outputs": [],
   "source": [
    "samps_v1_S = sample_from_1param(mu, size=S, random_state=1)\n",
    "samps_v2_S = sample_from_1param(mu, size=S, random_state=2)"
   ]
  },
  {
   "cell_type": "code",
   "execution_count": 12,
   "metadata": {},
   "outputs": [
    {
     "name": "stdout",
     "output_type": "stream",
     "text": [
      "   perc  desired  observed1  observed2\n",
      "0    25        1        2.0        2.0\n",
      "1    50        3        3.0        3.0\n",
      "2    75        4        4.0        4.0\n"
     ]
    }
   ],
   "source": [
    "pprint_samples(samps_v1_S, samps_v2_S)"
   ]
  },
  {
   "cell_type": "code",
   "execution_count": 13,
   "metadata": {},
   "outputs": [
    {
     "name": "stdout",
     "output_type": "stream",
     "text": [
      "   desiredmean  observed1  observed2\n",
      "0            3      3.143      3.128\n"
     ]
    }
   ],
   "source": [
    "samples_mean(samps_v1_S, samps_v2_S)"
   ]
  },
  {
   "cell_type": "markdown",
   "metadata": {},
   "source": [
    "## Let's find the best 2-parameter duration distribution that fits our constraints"
   ]
  },
  {
   "cell_type": "code",
   "execution_count": 16,
   "metadata": {},
   "outputs": [],
   "source": [
    "def calc_2param_loss(lam, nu, J=15, day_p25=1, day_p50=3, day_p75=4):\n",
    "    logpmf_J = ag_stats.poisson.logpmf(np.arange(1, J), lam) / nu\n",
    "    pmf_J = ag_np.exp(logpmf_J)\n",
    "    denom = ag_np.sum(pmf_J)\n",
    "    pmf_J = pmf_J / denom\n",
    "    cdf_J = ag_np.cumsum(pmf_J)\n",
    "    \n",
    "    error_at_p25 = 0.25 * np.square(0.25 - cdf_J[day_p25-1])\n",
    "    error_at_p50 = 0.5 * np.square( 0.5 - cdf_J[day_p50-1])\n",
    "    error_at_p75 = 0.25 * np.square(0.75 - cdf_J[day_p75-1])\n",
    "\n",
    "    return error_at_p25 + error_at_p50 + error_at_p75 "
   ]
  },
  {
   "cell_type": "code",
   "execution_count": 19,
   "metadata": {},
   "outputs": [],
   "source": [
    "G = 101\n",
    "H = 99\n",
    "lam_G = np.linspace(1, 12, G);\n",
    "nu_H = np.logspace( np.log10(0.05), np.log10(50), H);\n",
    "\n",
    "nu_GH, lam_GH = np.meshgrid(nu_H, lam_G);\n",
    "assert nu_GH.shape == (G,H)"
   ]
  },
  {
   "cell_type": "code",
   "execution_count": 20,
   "metadata": {},
   "outputs": [],
   "source": [
    "cost_GH = np.zeros((G,H))\n",
    "for gg in range(G):\n",
    "    for hh in range(H):\n",
    "        cost_GH[gg,hh] = calc_2param_loss(lam_GH[gg,hh], nu_GH[gg,hh]);"
   ]
  },
  {
   "cell_type": "code",
   "execution_count": 21,
   "metadata": {},
   "outputs": [
    {
     "data": {
      "image/png": "[encoded data removed]",
      "text/plain": [
       "<Figure size 432x288 with 2 Axes>"
      ]
     },
     "metadata": {},
     "output_type": "display_data"
    }
   ],
   "source": [
    "plt.pcolor(lam_GH, np.log10(nu_GH), cost_GH, shading='nearest', cmap='hot_r');\n",
    "plt.colorbar();\n",
    "plt.xlabel('lambda');\n",
    "plt.ylabel('\\log_10 nu');\n",
    "plt.savefig('duration loss I to M.png')"
   ]
  },
  {
   "cell_type": "code",
   "execution_count": 22,
   "metadata": {},
   "outputs": [
    {
     "data": {
      "text/plain": [
       "0.003127503864363012"
      ]
     },
     "execution_count": 22,
     "metadata": {},
     "output_type": "execute_result"
    }
   ],
   "source": [
    "minrow, mincol = np.unravel_index(np.argmin(cost_GH, axis=None), cost_GH.shape)\n",
    "cost_GH[minrow, mincol]"
   ]
  },
  {
   "cell_type": "code",
   "execution_count": 23,
   "metadata": {},
   "outputs": [],
   "source": [
    "bestlam = lam_GH[minrow, mincol]\n",
    "bestnu = nu_GH[minrow, mincol]"
   ]
  },
  {
   "cell_type": "code",
   "execution_count": 24,
   "metadata": {},
   "outputs": [
    {
     "data": {
      "text/plain": [
       "(1.22, 5.240565670773425)"
      ]
     },
     "execution_count": 24,
     "metadata": {},
     "output_type": "execute_result"
    }
   ],
   "source": [
    "bestlam, bestnu"
   ]
  },
  {
   "cell_type": "markdown",
   "metadata": {},
   "source": [
    "## Check the distribution achieves"
   ]
  },
  {
   "cell_type": "code",
   "execution_count": 25,
   "metadata": {},
   "outputs": [],
   "source": [
    "def sample_from_2param(lam, nu, size=100000, J=35, random_state=0):\n",
    "    logpmf_J = ag_stats.poisson.logpmf(np.arange(1, J), lam) / nu\n",
    "    pmf_J = ag_np.exp(logpmf_J)\n",
    "    denom = ag_np.sum(pmf_J)\n",
    "    pmf_J = pmf_J / denom\n",
    "\n",
    "    if isinstance(random_state, int):\n",
    "        prng = np.random.RandomState(random_state)\n",
    "    else:\n",
    "        prng = random_state\n",
    "    return prng.choice(np.arange(1, J), p=pmf_J, size=size)"
   ]
  },
  {
   "cell_type": "code",
   "execution_count": 26,
   "metadata": {},
   "outputs": [],
   "source": [
    "samps_2param_v1_S = sample_from_2param(bestlam, bestnu, size=S, random_state=1)\n",
    "samps_2param_v2_S = sample_from_2param(bestlam, bestnu, size=S, random_state=2)"
   ]
  },
  {
   "cell_type": "code",
   "execution_count": 27,
   "metadata": {},
   "outputs": [
    {
     "name": "stdout",
     "output_type": "stream",
     "text": [
      "2 param COST: 0.0031275\n"
     ]
    }
   ],
   "source": [
    "print(\"2 param COST: %.7f\" % (cost_GH[minrow, mincol]))"
   ]
  },
  {
   "cell_type": "code",
   "execution_count": 28,
   "metadata": {},
   "outputs": [
    {
     "name": "stdout",
     "output_type": "stream",
     "text": [
      "   perc  desired  observed1  observed2\n",
      "0    25        1        2.0        2.0\n",
      "1    50        3        3.0        3.0\n",
      "2    75        4        5.0        5.0\n"
     ]
    }
   ],
   "source": [
    "pprint_samples(samps_2param_v1_S, samps_2param_v2_S)"
   ]
  },
  {
   "cell_type": "code",
   "execution_count": 29,
   "metadata": {},
   "outputs": [
    {
     "data": {
      "image/png": "[encoded data removed]",
      "text/plain": [
       "<Figure size 576x576 with 2 Axes>"
      ]
     },
     "metadata": {},
     "output_type": "display_data"
    }
   ],
   "source": [
    "fig, axs = plt.subplots(2, figsize=(8,8))\n",
    "axs[0].hist(samps_2param_v1_S)\n",
    "axs[0].set_title('Histogram of Sample 1')\n",
    "axs[1].hist(samps_2param_v2_S)\n",
    "axs[1].set_title('Histogram of Sample 2')\n",
    "plt.savefig('hist1.png')"
   ]
  },
  {
   "cell_type": "code",
   "execution_count": 30,
   "metadata": {},
   "outputs": [
    {
     "name": "stdout",
     "output_type": "stream",
     "text": [
      "   desiredmean  observed1  observed2\n",
      "0            3      3.825      3.808\n"
     ]
    }
   ],
   "source": [
    "samples_mean(samps_2param_v1_S, samps_2param_v2_S)"
   ]
  },
  {
   "cell_type": "markdown",
   "metadata": {},
   "source": [
    "# Now we need a PRIOR on lambda and nu, not just a point estimate"
   ]
  },
  {
   "cell_type": "code",
   "execution_count": 31,
   "metadata": {},
   "outputs": [],
   "source": [
    "def sample_from_normal_truncated_to_positives(m, s, S=10000, random_state=0):\n",
    "    return scipy.stats.truncnorm(\n",
    "        (0-m)/s, np.inf, m, s).rvs(size=S, random_state=random_state)"
   ]
  },
  {
   "cell_type": "code",
   "execution_count": 32,
   "metadata": {},
   "outputs": [],
   "source": [
    "prior_lam_mean = bestlam\n",
    "prior_lam_std  = 1.00\n",
    "prior_nu_mean = bestnu\n",
    "prior_nu_std  = 0.05\n",
    "S = 10000\n",
    "R = 10\n",
    "\n",
    "prng = np.random.RandomState(101)\n",
    "\n",
    "lam_S = sample_from_normal_truncated_to_positives(prior_lam_mean, prior_lam_std, S, prng)\n",
    "nu_S = sample_from_normal_truncated_to_positives(prior_nu_mean, prior_nu_std, S, prng)\n",
    "\n",
    "all_samps = list()\n",
    "for ss in range(S):\n",
    "    samps_R = sample_from_2param(lam_S[ss], nu_S[ss], size=R, random_state=prng)\n",
    "    all_samps.append(samps_R)\n",
    "samps_A = np.hstack(all_samps)"
   ]
  },
  {
   "cell_type": "code",
   "execution_count": 33,
   "metadata": {},
   "outputs": [
    {
     "name": "stdout",
     "output_type": "stream",
     "text": [
      "   perc  desired  observed1  observed2\n",
      "0    25        1        2.0        2.0\n",
      "1    50        3        3.0        3.0\n",
      "2    75        4        5.0        5.0\n"
     ]
    }
   ],
   "source": [
    "pprint_samples(samps_A, samps_A)"
   ]
  },
  {
   "cell_type": "code",
   "execution_count": 34,
   "metadata": {},
   "outputs": [
    {
     "name": "stdout",
     "output_type": "stream",
     "text": [
      "   desiredmean  observed1  observed2\n",
      "0            3      4.018      4.018\n"
     ]
    }
   ],
   "source": [
    "samples_mean(samps_A, samps_A)"
   ]
  },
  {
   "cell_type": "code",
   "execution_count": 35,
   "metadata": {},
   "outputs": [
    {
     "data": {
      "text/plain": [
       "Text(0.5, 1.0, 'samples from infected to mild status')"
      ]
     },
     "execution_count": 35,
     "metadata": {},
     "output_type": "execute_result"
    },
    {
     "data": {
      "image/png": "[encoded data removed]",
      "text/plain": [
       "<Figure size 432x288 with 1 Axes>"
      ]
     },
     "metadata": {},
     "output_type": "display_data"
    }
   ],
   "source": [
    "plt.hist(samps_A)\n",
    "plt.title('samples from infected to mild status')\n",
    "#plt.savefig('figs/pi_M.png')"
   ]
  },
  {
   "cell_type": "code",
   "execution_count": null,
   "metadata": {},
   "outputs": [],
   "source": []
  }
 ],
 "metadata": {
  "kernelspec": {
   "display_name": "Python 3",
   "language": "python",
   "name": "python3"
  },
  "language_info": {
   "codemirror_mode": {
    "name": "ipython",
    "version": 3
   },
   "file_extension": ".py",
   "mimetype": "text/x-python",
   "name": "python",
   "nbconvert_exporter": "python",
   "pygments_lexer": "ipython3",
   "version": "3.7.6"
  }
 },
 "nbformat": 4,
 "nbformat_minor": 4
}
